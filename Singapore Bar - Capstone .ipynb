{
 "cells": [
  {
   "cell_type": "markdown",
   "metadata": {},
   "source": [
    "Introduction/Business Problem\n",
    "\n",
    "My hypothetical business problem to solve here is that of finding an optimal location in Singapore to open a new high-end wine bar. Singapore has a highly developed f&b scene, with bars and restaurants ranging from cheap dives to high-end. In our example, a successful bar owner is looking to open up a new wine bar but wants to know in which location he is most likely to attract wealthy locals, expats and tourists alike. Our aim here is to use unsupervised machine learning to offer clusters of locations which will identify 'hotspots' in the city, to help us with determining the best location.\n",
    "\n",
    "\n",
    "Data\n",
    "\n",
    "In terms of data, there are three separate considerations, each with a different source, as outlined below: \n",
    "\n",
    "I. List of Singaporean districts - Wikipedia (we will use the page referring to Singapore's \"Planning Areas\"); https://en.wikipedia.org/wiki/Planning_Areas_of_Singapore\n",
    "II. Geo-coordinates of said planning areas - Geocoder\n",
    "III. Top venues in each planning area - Foursquare\n",
    "\n",
    "\n"
   ]
  }
 ],
 "metadata": {
  "kernelspec": {
   "display_name": "Python",
   "language": "python",
   "name": "conda-env-python-py"
  },
  "language_info": {
   "codemirror_mode": {
    "name": "ipython",
    "version": 3
   },
   "file_extension": ".py",
   "mimetype": "text/x-python",
   "name": "python",
   "nbconvert_exporter": "python",
   "pygments_lexer": "ipython3",
   "version": "3.6.10"
  }
 },
 "nbformat": 4,
 "nbformat_minor": 4
}
