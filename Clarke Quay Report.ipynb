{
 "cells": [
  {
   "cell_type": "markdown",
   "metadata": {},
   "source": [
    "## Introduction/Business Problem"
   ]
  },
  {
   "cell_type": "markdown",
   "metadata": {},
   "source": [
    "### Introduction\n",
    "Singapore is a wonderful country/city which attracts many visitors each year. I had the privilege to live there for a year, and Clarke Quay was one of my favourite places to go out for a meal or a drink. However, it is quite easy to become overwhelmed by the sheer volume of choices there. Singaporeans are crazy about their food and enjoy partying, as do the many foreigners/expats who pass through the country too! But how do they know where the best places are in and around Clarke Quay, one of the hottest places in Singapore?\n",
    "    \n",
    "### Business Problem\n",
    "I plan to create simple guide to the best places to eat/drink in Clarke Quay, based on Foursquare likes, establishment category and geographic location data. Essentially, I will produce 4 clusters of restuarants/bars which will serve as a simple-to-understand guide, based on what the subject is looking for. Foursquare user feedback is the key determining factor here. As they say, there is wisdom in numbers!"
   ]
  },
  {
   "cell_type": "markdown",
   "metadata": {},
   "source": [
    "## Data"
   ]
  },
  {
   "cell_type": "markdown",
   "metadata": {},
   "source": [
    "### Data Requirements\n",
    "\n",
    "The data I need to acquire from Foursquare for this project is: name,id,location,category, and no. of 'likes' for each venue which is included. I will utilise the Foursquare API in order to obtain this data. \n",
    "\n",
    "### Acquiring Data\n",
    "\n",
    "Geolocator coordinates are necessary for Clarke Quay, Singapore. Once I have the lat,long information for the area, then I can begin assembling my dataset of estbalishments, in accordanc"
   ]
  }
 ],
 "metadata": {
  "kernelspec": {
   "display_name": "Python",
   "language": "python",
   "name": "conda-env-python-py"
  },
  "language_info": {
   "codemirror_mode": {
    "name": "ipython",
    "version": 3
   },
   "file_extension": ".py",
   "mimetype": "text/x-python",
   "name": "python",
   "nbconvert_exporter": "python",
   "pygments_lexer": "ipython3",
   "version": "3.6.10"
  }
 },
 "nbformat": 4,
 "nbformat_minor": 4
}
