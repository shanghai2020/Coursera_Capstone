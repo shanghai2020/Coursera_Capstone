{
 "cells": [
  {
   "cell_type": "markdown",
   "metadata": {},
   "source": [
    "## Introduction/Business Problem"
   ]
  },
  {
   "cell_type": "markdown",
   "metadata": {},
   "source": [
    "### Introduction\n",
    "Singapore is a wonderful country/city which attracts many visitors each year. I had the privilege to live there for a year, and Clarke Quay was one of my favourite places to go out for a meal or a drink. However, it is quite easy to become overwhelmed by the sheer volume of choices there. Singaporeans are crazy about their food and enjoy partying, as do the many foreigners/expats who pass through the country too! But how do they know where the best places are in and around Clarke Quay, one of the hottest places in Singapore?\n",
    "    \n",
    "### Business Problem\n",
    "I plan to create simple guide to the best places to eat/drink in Clarke Quay, based on Foursquare likes, establishment category and geographic location data. Essentially, I will produce 4 clusters of restuarants/bars which will serve as a simple-to-understand guide, based on what the subject is looking for. Foursquare user feedback is the key determining factor here. As they say, there is wisdom in numbers!"
   ]
  },
  {
   "cell_type": "markdown",
   "metadata": {},
   "source": [
    "## Data"
   ]
  },
  {
   "cell_type": "markdown",
   "metadata": {},
   "source": [
    "### Data Requirements\n",
    "\n",
    "The data I need to acquire from Foursquare for this project is: name,id,location,category, and no. of 'likes' for each venue which is included. I will utilise the Foursquare API in order to obtain this data. No. of 'likes' is an extremely valuable metric which can be obtained from Foursquare, since clusters will be made largely considering how many other customers have found a certain venue to be. \n",
    "\n",
    "### Acquiring Data\n",
    "\n",
    "Geolocator coordinates are necessary for Clarke Quay, Singapore. Once I have the lat,long information for the area, then I can begin assembling my dataset of estbalishments, in accordance with the data requirements listed above. "
   ]
  },
  {
   "cell_type": "markdown",
   "metadata": {},
   "source": [
    "## Methodology"
   ]
  },
  {
   "cell_type": "markdown",
   "metadata": {},
   "source": [
    "A major assumption in this project is that the more 'likes' a venue receives on Foursquare, the higher the quality the establishment is. I established various categorical variables in order to group the venues more efficiently in this project. I also eliminated carefully from the list of considered venues those which did not quite fall into the category of 'going out' for a meal or a drink. In terms of machine learning, I have utilised k-means clustering algorithm, which has resulted in 4 clusters of venues. Unsupervised learning is appropriate in this case for unlabelled data, and k-means is the best clustering method availalbe to find appropriate groups in this data."
   ]
  },
  {
   "cell_type": "markdown",
   "metadata": {},
   "source": [
    "## Results"
   ]
  },
  {
   "cell_type": "markdown",
   "metadata": {},
   "source": [
    "I found 4 clusters was most appropriate for my dataset of venues in and around Clarke Quay. I will outline each cluster first, before disucssing the results. Raw data can be seen in my notebook.\n"
   ]
  },
  {
   "cell_type": "markdown",
   "metadata": {},
   "source": [
    "### CLUSTER 1\n",
    "\n",
    "These venues are largely Western fast-food type places, or small Asian restaurants. Nothing fancy, mostly poor reviews."
   ]
  },
  {
   "cell_type": "markdown",
   "metadata": {},
   "source": [
    "### CLUSTER 2\n",
    "\n",
    "This cluster tends to be places catering to more niche tastes. Most places falling under 'other' are in here."
   ]
  },
  {
   "cell_type": "markdown",
   "metadata": {},
   "source": [
    "### CLUSTER 3\n",
    "\n",
    "High quality sit-down restaurants for the most part, favouring no particular cuisine."
   ]
  },
  {
   "cell_type": "markdown",
   "metadata": {},
   "source": [
    "### CLUSTER 4\n",
    "\n",
    "Poorly-rated bars and clubs."
   ]
  },
  {
   "cell_type": "markdown",
   "metadata": {},
   "source": [
    "The k-means clustering algorithm was very effective as distinguishing venues based on similarity and on 'likes'. To be honest, I do think this would make the task of choosing suitable venues to dine/drink out much easier for people not acquainted with the area!"
   ]
  },
  {
   "cell_type": "code",
   "execution_count": null,
   "metadata": {},
   "outputs": [],
   "source": []
  }
 ],
 "metadata": {
  "kernelspec": {
   "display_name": "Python",
   "language": "python",
   "name": "conda-env-python-py"
  },
  "language_info": {
   "codemirror_mode": {
    "name": "ipython",
    "version": 3
   },
   "file_extension": ".py",
   "mimetype": "text/x-python",
   "name": "python",
   "nbconvert_exporter": "python",
   "pygments_lexer": "ipython3",
   "version": "3.6.10"
  }
 },
 "nbformat": 4,
 "nbformat_minor": 4
}
